{
 "cells": [
  {
   "cell_type": "code",
   "execution_count": 1,
   "id": "8e25a83f-c493-42eb-a0d7-cf1c4885bd88",
   "metadata": {},
   "outputs": [],
   "source": [
    "import numpy as np\n",
    "import pandas as pd\n",
    "from sklearn.metrics.pairwise import cosine_similarity\n",
    "import pickle"
   ]
  },
  {
   "cell_type": "code",
   "execution_count": 5,
   "id": "7138b47a-1486-4b4d-b682-05f51719bac3",
   "metadata": {},
   "outputs": [],
   "source": [
    "books = pd.read_csv('Books.csv', low_memory=False)\n",
    "users = pd.read_csv('users.csv', low_memory=False)\n",
    "ratings = pd.read_csv('ratings.csv', low_memory=False)"
   ]
  },
  {
   "cell_type": "code",
   "execution_count": 7,
   "id": "91cbd2a6-c271-49ef-8cf8-0207a800e96d",
   "metadata": {},
   "outputs": [],
   "source": [
    "# Merge ratings with book details\n",
    "ratings_with_name = ratings.merge(books, on='ISBN')"
   ]
  },
  {
   "cell_type": "markdown",
   "id": "b866380c-fecb-404a-badf-a9da71cc4050",
   "metadata": {},
   "source": [
    "# Popularity-Based Recommender"
   ]
  },
  {
   "cell_type": "code",
   "execution_count": 10,
   "id": "088036a6-5f0a-4bb6-83bf-1bf3ef403ee7",
   "metadata": {},
   "outputs": [],
   "source": [
    "# Calculate number of ratings and average rating for each book\n",
    "num_rating_df = ratings_with_name.groupby('Book-Title').count()['Book-Rating'].reset_index()\n",
    "num_rating_df.rename(columns={'Book-Rating': 'num_ratings'}, inplace=True)"
   ]
  },
  {
   "cell_type": "code",
   "execution_count": 12,
   "id": "84660ae4-004c-4f55-b695-d79b19859dc4",
   "metadata": {},
   "outputs": [],
   "source": [
    "avg_rating_df = ratings_with_name.groupby('Book-Title')['Book-Rating'].mean().reset_index()\n",
    "avg_rating_df.rename(columns={'Book-Rating': 'avg_rating'}, inplace=True)"
   ]
  },
  {
   "cell_type": "code",
   "execution_count": 14,
   "id": "d80e5a0f-d2f2-4b28-aec2-e97a1f8457a6",
   "metadata": {},
   "outputs": [],
   "source": [
    "# Merge number of ratings and average ratings\n",
    "popular_df = num_rating_df.merge(avg_rating_df, on='Book-Title')"
   ]
  },
  {
   "cell_type": "code",
   "execution_count": 16,
   "id": "eb14e8ea-8f55-4aba-a089-037cbca9ae0b",
   "metadata": {},
   "outputs": [],
   "source": [
    "# Filter books with at least 250 ratings and sort by average rating\n",
    "popular_df = popular_df[popular_df['num_ratings'] >= 250].sort_values('avg_rating', ascending=False).head(50)"
   ]
  },
  {
   "cell_type": "code",
   "execution_count": 18,
   "id": "a662e313-3dbc-468a-926f-b6df5f1f7868",
   "metadata": {},
   "outputs": [],
   "source": [
    "# Merge with book details to get author and image URL\n",
    "popular_df = popular_df.merge(books, on='Book-Title').drop_duplicates('Book-Title')[['Book-Title', 'Book-Author', 'Image-URL-M', 'num_ratings', 'avg_rating']]"
   ]
  },
  {
   "cell_type": "markdown",
   "id": "e439615f-1d81-41f1-b2fb-f27921edb7b3",
   "metadata": {},
   "source": [
    "# Collaborative Filtering-Based Recommender"
   ]
  },
  {
   "cell_type": "code",
   "execution_count": 21,
   "id": "98691903-2e6a-4d25-b4df-f10a2eb230a3",
   "metadata": {},
   "outputs": [],
   "source": [
    "# Filter users who have rated more than 200 books\n",
    "x = ratings_with_name.groupby('User-ID').count()['Book-Rating'] > 200\n",
    "padhe_likhe_users = x[x].index"
   ]
  },
  {
   "cell_type": "code",
   "execution_count": 23,
   "id": "5a1b239e-78e6-40a5-9d32-e218059a92b1",
   "metadata": {},
   "outputs": [],
   "source": [
    "# Filter books that have been rated by at least 50 users\n",
    "filtered_rating = ratings_with_name[ratings_with_name['User-ID'].isin(padhe_likhe_users)]\n",
    "y = filtered_rating.groupby('Book-Title').count()['Book-Rating'] >= 50\n",
    "famous_books = y[y].index"
   ]
  },
  {
   "cell_type": "code",
   "execution_count": 25,
   "id": "98a591b0-636a-48ef-9a17-cc853ddb0d13",
   "metadata": {},
   "outputs": [],
   "source": [
    "# Final ratings dataset\n",
    "final_ratings = filtered_rating[filtered_rating['Book-Title'].isin(famous_books)]"
   ]
  },
  {
   "cell_type": "code",
   "execution_count": 27,
   "id": "de775362-3397-4873-a577-ba56b661530e",
   "metadata": {},
   "outputs": [],
   "source": [
    "# Create pivot table\n",
    "pt = final_ratings.pivot_table(index='Book-Title', columns='User-ID', values='Book-Rating')\n",
    "pt.fillna(0, inplace=True)"
   ]
  },
  {
   "cell_type": "code",
   "execution_count": 33,
   "id": "8d69515e-f46f-43ea-a49f-740127ee025e",
   "metadata": {},
   "outputs": [],
   "source": [
    "# Calculate cosine similarity\n",
    "similarity_scores = cosine_similarity(pt)"
   ]
  },
  {
   "cell_type": "code",
   "execution_count": 39,
   "id": "9ccc7011-e79a-4d7c-b4c1-f76b2dc60083",
   "metadata": {},
   "outputs": [
    {
     "data": {
      "text/plain": [
       "(706, 706)"
      ]
     },
     "execution_count": 39,
     "metadata": {},
     "output_type": "execute_result"
    }
   ],
   "source": [
    "similarity_scores.shape\n"
   ]
  },
  {
   "cell_type": "code",
   "execution_count": 51,
   "id": "fcd28a07-3461-4915-99a5-d8f4e95f4fd7",
   "metadata": {},
   "outputs": [],
   "source": [
    "# Recommendation function\n",
    "def recommend(book_name):\n",
    "    # Normalize input and find partial matches\n",
    "    book_name = book_name.lower().strip()\n",
    "    matches = [title for title in pt.index if book_name in title.lower()]\n",
    "    \n",
    "    if not matches:\n",
    "        return [[\"No books found matching your search. Please try another title.\"]]\n",
    "    \n",
    "    # Use the first match (you can modify this to handle multiple matches)\n",
    "    matched_title = matches[0]\n",
    "    index = np.where(pt.index == matched_title)[0][0]\n",
    "    # Get similar items based on similarity scores\n",
    "    similar_items = sorted(list(enumerate(similarity_scores[index])), key=lambda x: x[1], reverse=True)[1:5]\n",
    "    \n",
    "    data = []\n",
    "    for i in similar_items:\n",
    "        item = []\n",
    "        temp_df = books[books['Book-Title'] == pt.index[i[0]]]\n",
    "        item.extend(list(temp_df.drop_duplicates('Book-Title')['Book-Title'].values))\n",
    "        item.extend(list(temp_df.drop_duplicates('Book-Title')['Book-Author'].values))\n",
    "        item.extend(list(temp_df.drop_duplicates('Book-Title')['Image-URL-M'].values))\n",
    "        data.append(item)\n",
    "    \n",
    "    return data"
   ]
  },
  {
   "cell_type": "code",
   "execution_count": 53,
   "id": "06779efe-8713-432b-9c59-00e3e0318c41",
   "metadata": {},
   "outputs": [],
   "source": [
    "# Save data for Flask app\n",
    "pickle.dump(popular_df, open('popular.pkl', 'wb'))\n",
    "pickle.dump(pt, open('pt.pkl', 'wb'))\n",
    "pickle.dump(books, open('books.pkl', 'wb'))\n",
    "pickle.dump(similarity_scores, open('similarity_scores.pkl', 'wb'))"
   ]
  },
  {
   "cell_type": "code",
   "execution_count": null,
   "id": "492d77d4-588e-45ef-ab4a-bfc534c8bcaa",
   "metadata": {},
   "outputs": [],
   "source": []
  }
 ],
 "metadata": {
  "kernelspec": {
   "display_name": "Python 3 (ipykernel)",
   "language": "python",
   "name": "python3"
  },
  "language_info": {
   "codemirror_mode": {
    "name": "ipython",
    "version": 3
   },
   "file_extension": ".py",
   "mimetype": "text/x-python",
   "name": "python",
   "nbconvert_exporter": "python",
   "pygments_lexer": "ipython3",
   "version": "3.11.7"
  }
 },
 "nbformat": 4,
 "nbformat_minor": 5
}
